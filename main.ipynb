{
 "cells": [
  {
   "cell_type": "code",
   "execution_count": 7,
   "id": "76d05aae",
   "metadata": {},
   "outputs": [],
   "source": [
    "#!pip install openai\n",
    "#!pip install pymed\n",
    "from get_response import get_response\n",
    "from pubmed_func import get_pubmed"
   ]
  },
  {
   "cell_type": "code",
   "execution_count": 8,
   "id": "3f3da58a",
   "metadata": {},
   "outputs": [],
   "source": [
    "serach_query = \"graft versus host disease bone marrow transplantation 2024\"\n",
    "topic_of_interest = \"graft versus host disease after bone marrow transplantation in human subjects\""
   ]
  },
  {
   "cell_type": "code",
   "execution_count": 9,
   "id": "b3440d0e",
   "metadata": {},
   "outputs": [
    {
     "name": "stdout",
     "output_type": "stream",
     "text": [
      "Title: Donor regulatory T cells rapidly adapt to recipient tissues to control murine acute graft-versus-host disease.\n",
      "Title: Acute calcareous corneal degeneration in a patient with chronic graft-versus-host disease.\n",
      "Title: Post-transplant cyclophosphamide, calcineurin inhibitor, and mycophenolate mofetil compared to anti-thymocyte globulin, calcineurin inhibitor, and methotrexate combinations as graft-versus-host disease prophylaxis post allogeneic stem cell transplantation from sibling and unrelated donors in patients with acute myeloid leukemia: a study on behalf of the Acute Leukemia Working Party of the European Society for Blood and Marrow Transplantation.\n",
      "Title: Using Targeted Transcriptome and Machine Learning of Pre- and Post-Transplant Bone Marrow Samples to Predict Acute Graft-versus-Host Disease and Overall Survival after Allogeneic Stem Cell Transplantation.\n",
      "Title: Effects of female bone marrow transplantation on male reproductive organs.\n"
     ]
    }
   ],
   "source": [
    "articles = get_pubmed(serach_query)"
   ]
  },
  {
   "cell_type": "code",
   "execution_count": 10,
   "id": "a902e4d4",
   "metadata": {},
   "outputs": [
    {
     "name": "stdout",
     "output_type": "stream",
     "text": [
      "Title: Donor regulatory T cells rapidly adapt to recipient tissues to control murine acute graft-versus-host disease.Abstract: The adoptive transfer of regulatory T cells is a promising strategy to prevent graft-versus-host disease after allogeneic bone marrow transplantation. Here, we use a major histocompatibility complex-mismatched mouse model to follow the fate of in vitro expanded donor regulatory T cells upon migration to target organs. Employing comprehensive gene expression and repertoire profiling, we show that they retain their suppressive function and plasticity after transfer. Upon entering non-lymphoid tissues, donor regulatory T cells acquire organ-specific gene expression profiles resembling tissue-resident cells and activate hallmark suppressive and cytotoxic pathways, most evidently in the colon, when co-transplanted with graft-versus-host disease-inducing conventional T cells. Dominant T cell receptor clonotypes overlap between organs and across recipients and their relative abundance correlates with protection efficacy. Thus, this study reveals donor regulatory T cell selection and adaptation mechanisms in target organs and highlights protective features of Treg to guide the development of improved graft-versus-host disease prevention strategies.\n",
      "=================================================================================================================\n",
      "\n",
      "\n",
      "Title: Acute calcareous corneal degeneration in a patient with chronic graft-versus-host disease.Abstract: \n",
      "=================================================================================================================\n",
      "\n",
      "\n",
      "Title: Post-transplant cyclophosphamide, calcineurin inhibitor, and mycophenolate mofetil compared to anti-thymocyte globulin, calcineurin inhibitor, and methotrexate combinations as graft-versus-host disease prophylaxis post allogeneic stem cell transplantation from sibling and unrelated donors in patients with acute myeloid leukemia: a study on behalf of the Acute Leukemia Working Party of the European Society for Blood and Marrow Transplantation.Abstract: Post-transplant cyclophosphamide plus calcineurin inhibitor (CNI)(tacrolimus or cyclosporine A) plus mycophenolate mofetil (PTCy/TAC or CSA/MMF) and anti-thymocyte globulin plus CNI (tacrolimus or cyclosporine A) plus methotrexate (ATG/TAC or CSA/MTX) are common graft-versus-host disease (GVHD) prophylaxis regimens. We compared the two regimens in patients with acute myeloid leukemia (AML) undergoing allogeneic transplantation from matched siblings or unrelated donors. 402 received PTCy/TAC or CSA/MMF and 5648 received ATG/TAC or CSA/MTX. Patients in the PTCy-based group were younger (48.7 vs. 51.5 years, p = 0.024) and there was a higher frequency of patient cytomegalovirus seropositivity and female donor to male patient combination in this group (77.8% vs. 71.8%, p = 0.009 and 18.4% vs. 14.4%, p = 0.029, respectively). More patients in the PTCy-based group received reduced-intensity conditioning (51.5% vs. 41%, p < 0.0001). No differences were observed in the incidence of acute GVHD grade II-IV and III-IV (21.2% vs. 20.4%, p = 0.92 and 8.1% vs. 6%, p = 0.1) or 2-year total and extensive chronic GVHD (33.7% vs. 30%, p = 0.09 and 10.7% vs. 11.2%, p = 0.81) between the groups. In the multivariate analysis, all transplant outcomes did not differ between the groups. PTCy/CNI/MMF and ATG/CNI/MTX are alternative regimens for GVHD prophylaxis in AML patients.\n",
      "=================================================================================================================\n",
      "\n",
      "\n",
      "Title: Using Targeted Transcriptome and Machine Learning of Pre- and Post-Transplant Bone Marrow Samples to Predict Acute Graft-versus-Host Disease and Overall Survival after Allogeneic Stem Cell Transplantation.Abstract: Acute graft-versus-host disease (aGvHD) remains a major cause of morbidity and mortality after allogeneic hematopoietic stem cell transplantation (HSCT). We performed RNA analysis of 1408 candidate genes in bone marrow samples obtained from 167 patients undergoing HSCT. RNA expression data were used in a machine learning algorithm to predict the presence or absence of aGvHD using either random forest or extreme gradient boosting algorithms. Patients were randomly divided into training (2/3 of patients) and validation (1/3 of patients) sets. Using post-HSCT RNA data, the machine learning algorithm selected 92 genes for predicting aGvHD that appear to play a role in PI3/AKT, MAPK, and FOXO signaling, as well as microRNA. The algorithm selected 20 genes for predicting survival included genes involved in MAPK and chemokine signaling. Using pre-HSCT RNA data, the machine learning algorithm selected 400 genes and 700 genes predicting aGvHD and overall survival, but candidate signaling pathways could not be specified in this analysis. These data show that NGS analyses of RNA expression using machine learning algorithms may be useful biomarkers of aGvHD and overall survival for patients undergoing HSCT, allowing for the identification of major signaling pathways associated with HSCT outcomes and helping to dissect the complex steps involved in the development of aGvHD. The analysis of pre-HSCT bone marrow samples may lead to pre-HSCT interventions including choice of remission induction regimens and modifications in patient health before HSCT.\n",
      "=================================================================================================================\n",
      "\n",
      "\n",
      "Title: Effects of female bone marrow transplantation on male reproductive organs.Abstract: Graft-versus-host disease (GVHD), an adverse effect after bone marrow transplantation (BMT), may affect male reproductive function. It is hypothesized that a sex-mismatched BMT induces GVHD in male reproductive organs because female immune cells are not immunologically tolerant to specific antigens of the male organs. However, this hypothesis has not been experimentally verified using male (M) recipient animals following BMT from the female (F) donors. Therefore, the aim of the present study is to examine whether the female BMT to males (F→M group) induces some GVHD reactions in the testis and the other male reproductive organs. The results showed that no inflammation was found in recipients of the male BMT to males (M→M group), whereas significant inflammatory cell responses lasting for at least 4 months were induced in testis, epididymis, prostate and preputial gland in some mice of F→M group. The most severe lesion was found in the preputial gland, in which lymphocytic inflammation was accompanied by loss of glandular acini, thickening of the interstitum and increased cytokines such as TNF-α and IFN-γ. Western blot analyses revealed that sera from the F→M group reacted with various antigens of the male reproductive organs. These results indicate that transplanted female immune cells may recognize the male reproductive organs as immunologically foreign ones and induce chronic GVHD, which may affect male reproductive function.\n",
      "=================================================================================================================\n",
      "\n",
      "\n"
     ]
    }
   ],
   "source": [
    "for i in articles:\n",
    "    print(i)\n",
    "    print('=================================================================================================================')\n",
    "    print('\\n')"
   ]
  },
  {
   "cell_type": "code",
   "execution_count": 11,
   "id": "af131339",
   "metadata": {},
   "outputs": [
    {
     "name": "stdout",
     "output_type": "stream",
     "text": [
      "This article does not pertain to graft versus host disease after bone marrow transplantation in human subjects.\n",
      "=================================================================================================================\n",
      "\n",
      "\n",
      "<No abstract available>\n",
      "=================================================================================================================\n",
      "\n",
      "\n",
      "The article compares two graft-versus-host disease (GVHD) prophylaxis regimens in patients with acute myeloid leukemia (AML) undergoing allogeneic stem cell transplantation from sibling and unrelated donors. The two regimens assessed are post-transplant cyclophosphamide plus calcineurin inhibitor (CNI) and mycophenolate mofetil (PTCy/TAC or CSA/MMF), and anti-thymocyte globulin plus CNI and methotrexate (ATG/TAC or CSA/MTX). The study involved 402 patients receiving PTCy-based therapy and 5648 receiving ATG-based therapy. Key findings include no significant differences in the incidence of acute and chronic GVHD between the two groups. Both regimens are considered alternative options for GVHD prophylaxis in AML patients.\n",
      "=================================================================================================================\n",
      "\n",
      "\n",
      "The article discusses the use of RNA analysis and machine learning to predict acute graft-versus-host disease (aGvHD) and overall survival following allogeneic hematopoietic stem cell transplantation (HSCT). RNA from 1408 genes was analyzed in bone marrow samples from 167 patients. Machine learning algorithms, specifically random forest and extreme gradient boosting, were utilized to predict aGvHD and survival outcomes based on pre- and post-transplant RNA data. The study identified specific genes and signaling pathways, such as PI3/AKT, MAPK, and FOXO, that are potentially linked to aGvHD and survival. The findings suggest that RNA expression profiles could serve as useful biomarkers for predicting HSCT outcomes and might help in optimizing pre-transplant interventions.\n",
      "=================================================================================================================\n",
      "\n",
      "\n",
      "This article does not pertain to graft versus host disease after bone marrow transplantation in human subjects.\n",
      "=================================================================================================================\n",
      "\n",
      "\n"
     ]
    }
   ],
   "source": [
    "for i in articles:\n",
    "    print(get_response(i,topic_of_interest))\n",
    "    print('=================================================================================================================')\n",
    "    print('\\n')"
   ]
  }
 ],
 "metadata": {
  "kernelspec": {
   "display_name": "Python 3 (ipykernel)",
   "language": "python",
   "name": "python3"
  },
  "language_info": {
   "codemirror_mode": {
    "name": "ipython",
    "version": 3
   },
   "file_extension": ".py",
   "mimetype": "text/x-python",
   "name": "python",
   "nbconvert_exporter": "python",
   "pygments_lexer": "ipython3",
   "version": "3.11.5"
  }
 },
 "nbformat": 4,
 "nbformat_minor": 5
}
